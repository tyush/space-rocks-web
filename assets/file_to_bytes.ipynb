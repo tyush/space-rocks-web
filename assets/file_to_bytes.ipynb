{
 "cells": [
  {
   "cell_type": "code",
   "execution_count": 1,
   "metadata": {},
   "outputs": [],
   "source": [
    "img = open(\"ship.png\", \"rb\")\n",
    "ibytes = []\n",
    "byte = img.read(1)\n",
    "while byte:\n",
    "    ibytes.append(byte)\n",
    "    byte = img.read(1)\n",
    "ibytes.append(byte)"
   ]
  },
  {
   "cell_type": "code",
   "execution_count": 2,
   "metadata": {},
   "outputs": [],
   "source": [
    "bytes_big = [int.from_bytes(i, \"big\") for i in ibytes]\n",
    "bytes_lit = [int.from_bytes(i, \"little\") for i in ibytes]"
   ]
  }
 ],
 "metadata": {
  "interpreter": {
   "hash": "e7370f93d1d0cde622a1f8e1c04877d8463912d04d973331ad4851f04de6915a"
  },
  "kernelspec": {
   "display_name": "Python 3.9.7 64-bit",
   "language": "python",
   "name": "python3"
  },
  "language_info": {
   "codemirror_mode": {
    "name": "ipython",
    "version": 3
   },
   "file_extension": ".py",
   "mimetype": "text/x-python",
   "name": "python",
   "nbconvert_exporter": "python",
   "pygments_lexer": "ipython3",
   "version": "3.9.7"
  },
  "orig_nbformat": 4
 },
 "nbformat": 4,
 "nbformat_minor": 2
}
